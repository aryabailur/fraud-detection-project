{
 "cells": [
  {
   "cell_type": "code",
   "execution_count": 33,
   "id": "e36142bd",
   "metadata": {},
   "outputs": [
    {
     "name": "stdout",
     "output_type": "stream",
     "text": [
      "['tn' 'tn' 'chm' 'chm' 'chm' 'ghk' 'chm' 'ghk' 'tn' 'tn']\n",
      "[0. 0. 0. 0. 0. 0. 0. 0. 0. 0.]\n"
     ]
    }
   ],
   "source": [
    "import pandas as pd \n",
    "import numpy as np\n",
    "amounts=np.random.randint(1,5000,100)\n",
    "a=np.array([\"tn\",\"chm\",\"ghk\"])\n",
    "location=np.random.choice(a,10)\n",
    "print(location)\n",
    "print(np.array(np.zeros(10)))\n",
    "\n"
   ]
  },
  {
   "cell_type": "code",
   "execution_count": 3,
   "id": "6800d0ed",
   "metadata": {},
   "outputs": [
    {
     "name": "stdout",
     "output_type": "stream",
     "text": [
      "2.2.4\n"
     ]
    }
   ],
   "source": [
    "import pandas as pd \n",
    "import numpy as np\n",
    "import os\n",
    "print(np.__version__)\n",
    "txn_ids=np.char.add(\"txn_\",np.arange(1,50001).astype(str))\n",
    "amounts=np.random.randint(1,5000,50000)\n",
    "location=np.random.choice([\"tn\",\"chm\",\"ghk\"],50000)\n",
    "rows=np.random.randint(0,50000,500)\n",
    "transaction_name=np.random.choice([\"Arya Bailur\",\"Anika agrawal\",\"devv chand\",\"swapnil ambd\",\"shreyas mukadam\",\"russell saho\",\"tanay malvankar\",\"gayatri ghuge\",\"neira\",\"suchit baravkar\",\"Aarya palkar\",\"Aarya makhija\",\"irisha deshpande\",\"mihika\",\"krish kanal\",\"lakshya kanjwani\"],50000)\n",
    "data={\n",
    "    \"transaction_id\":txn_ids,\n",
    "    \"transaction_name\":transaction_name,\n",
    "    \"transaction_amt\":amounts,\n",
    "    \"location\":location,\n",
    "    \"is_fraud\":np.array(np.zeros(50000).astype(int))\n",
    "\n",
    "}\n",
    "df=pd.DataFrame(data)\n",
    "df.loc[rows,\"is_fraud\"]=1\n",
    "df.loc[rows,\"transaction_amt\"]=amounts[rows]*10\n",
    "\n",
    "df.to_csv(\"C:/Users/aryab/fraud-detection-project/ml-service/data/transactions.csv\",index=\"false\")\n",
    "\n",
    "\n",
    "\n"
   ]
  }
 ],
 "metadata": {
  "kernelspec": {
   "display_name": "Python 3",
   "language": "python",
   "name": "python3"
  },
  "language_info": {
   "codemirror_mode": {
    "name": "ipython",
    "version": 3
   },
   "file_extension": ".py",
   "mimetype": "text/x-python",
   "name": "python",
   "nbconvert_exporter": "python",
   "pygments_lexer": "ipython3",
   "version": "3.13.1"
  }
 },
 "nbformat": 4,
 "nbformat_minor": 5
}
