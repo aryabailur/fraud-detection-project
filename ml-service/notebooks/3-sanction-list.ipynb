{
 "cells": [
  {
   "cell_type": "code",
   "execution_count": 1,
   "id": "2793182e",
   "metadata": {},
   "outputs": [],
   "source": [
    "import pandas as pd\n",
    "import numpy as np \n",
    "\n",
    "data={\n",
    "    \"sanction_name\":[\"John Smith\", \"Bad Actor Inc.\", \"Suspicious Corp\", \"Jane Doe\", \"Shady LLC\", \"Risk Holdings\",\"Dev chand\",\"Suryansh kalchuri\",\"Dhruv hemdev\",\"Rahul dravid\",\"Manav sindhi\",\"Byjus india\",\"Mamaearth inc\",\"abc inc\",\"xyz inc\",\"Shreya huzz\",\"komal kuzz\"\n",
    "     ]\n",
    "}\n",
    "df=pd.DataFrame(data)\n",
    "df.to_csv(\"C:/Users/aryab/fraud-detection-project/ml-service/data/sanction-list.csv\",index=False)"
   ]
  }
 ],
 "metadata": {
  "kernelspec": {
   "display_name": ".venv (3.13.1)",
   "language": "python",
   "name": "python3"
  },
  "language_info": {
   "codemirror_mode": {
    "name": "ipython",
    "version": 3
   },
   "file_extension": ".py",
   "mimetype": "text/x-python",
   "name": "python",
   "nbconvert_exporter": "python",
   "pygments_lexer": "ipython3",
   "version": "3.13.1"
  }
 },
 "nbformat": 4,
 "nbformat_minor": 5
}
