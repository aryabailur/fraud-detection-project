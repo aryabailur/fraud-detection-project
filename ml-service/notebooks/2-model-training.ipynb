{
 "cells": [
  {
   "cell_type": "code",
   "execution_count": 4,
   "id": "28af6d87",
   "metadata": {},
   "outputs": [
    {
     "name": "stdout",
     "output_type": "stream",
     "text": [
      "              precision    recall  f1-score   support\n",
      "\n",
      "           0       1.00      1.00      1.00      9911\n",
      "           1       1.00      0.75      0.86        89\n",
      "\n",
      "    accuracy                           1.00     10000\n",
      "   macro avg       1.00      0.88      0.93     10000\n",
      "weighted avg       1.00      1.00      1.00     10000\n",
      "\n"
     ]
    },
    {
     "data": {
      "text/plain": [
       "['C:\\\\Users\\\\aryab\\\\fraud-detection-project\\\\ml-service\\\\model.pkl']"
      ]
     },
     "execution_count": 4,
     "metadata": {},
     "output_type": "execute_result"
    }
   ],
   "source": [
    "import numpy as np\n",
    "import pandas as pd \n",
    "import joblib\n",
    "\n",
    "\n",
    "from sklearn.linear_model import LogisticRegression\n",
    "from sklearn.model_selection import train_test_split\n",
    "from sklearn.metrics import confusion_matrix\n",
    "from sklearn.metrics import classification_report\n",
    "df=pd.read_csv(\"C:/Users/aryab/fraud-detection-project/ml-service/data/transactions.csv\")\n",
    "y=df[\"is_fraud\"]\n",
    "df2=df[[\"transaction_amt\",\"location\"]]\n",
    "loc=pd.get_dummies(df2,columns=[\"location\"])\n",
    "X=loc\n",
    "\n",
    "\n",
    "X_train,X_test,y_train,y_test=train_test_split(X,y,test_size=0.2,random_state=42)\n",
    "\n",
    "model=LogisticRegression()\n",
    "model.fit(X_train,y_train)\n",
    "y_pred=model.predict(X_test)\n",
    "\n",
    "cm=confusion_matrix(y_test,y_pred)\n",
    "report=classification_report(y_test,y_pred)\n",
    "print(report)\n",
    "\n",
    "joblib.dump(model,r\"C:\\Users\\aryab\\fraud-detection-project\\ml-service\\model.pkl\")\n",
    "\n",
    "\n",
    "\n",
    "\n",
    "\n",
    "\n"
   ]
  }
 ],
 "metadata": {
  "kernelspec": {
   "display_name": ".venv (3.13.1)",
   "language": "python",
   "name": "python3"
  },
  "language_info": {
   "codemirror_mode": {
    "name": "ipython",
    "version": 3
   },
   "file_extension": ".py",
   "mimetype": "text/x-python",
   "name": "python",
   "nbconvert_exporter": "python",
   "pygments_lexer": "ipython3",
   "version": "3.13.1"
  }
 },
 "nbformat": 4,
 "nbformat_minor": 5
}
