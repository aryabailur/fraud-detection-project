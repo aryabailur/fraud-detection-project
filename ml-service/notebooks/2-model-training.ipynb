{
 "cells": [
  {
   "cell_type": "code",
   "execution_count": 13,
   "id": "28af6d87",
   "metadata": {},
   "outputs": [
    {
     "name": "stdout",
     "output_type": "stream",
     "text": [
      "       transaction_amt  location_chm  location_ghk  location_tn\n",
      "0                 3768         False          True        False\n",
      "1                 4690         False          True        False\n",
      "2                 4357         False          True        False\n",
      "3                 3396          True         False        False\n",
      "4                 4487         False         False         True\n",
      "...                ...           ...           ...          ...\n",
      "49995             1308          True         False        False\n",
      "49996             1167          True         False        False\n",
      "49997             3106         False          True        False\n",
      "49998             4270          True         False        False\n",
      "49999             4082          True         False        False\n",
      "\n",
      "[50000 rows x 4 columns]\n"
     ]
    }
   ],
   "source": [
    "import numpy as np\n",
    "import pandas as pd \n",
    "\n",
    "from sklearn.linear_model import LogisticRegression\n",
    "df=pd.read_csv(\"C:/Users/aryab/fraud-detection-project/ml-service/data/transactions.csv\")\n",
    "y=df[\"is_fraud\"]\n",
    "df2=df[[\"transaction_amt\",\"location\"]]\n",
    "loc=pd.get_dummies(df2,columns=[\"location\"])\n",
    "X=loc\n",
    "\n",
    "\n",
    "print(X)\n",
    "\n"
   ]
  }
 ],
 "metadata": {
  "kernelspec": {
   "display_name": ".venv (3.13.1)",
   "language": "python",
   "name": "python3"
  },
  "language_info": {
   "codemirror_mode": {
    "name": "ipython",
    "version": 3
   },
   "file_extension": ".py",
   "mimetype": "text/x-python",
   "name": "python",
   "nbconvert_exporter": "python",
   "pygments_lexer": "ipython3",
   "version": "3.13.1"
  }
 },
 "nbformat": 4,
 "nbformat_minor": 5
}
